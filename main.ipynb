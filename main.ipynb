{
 "cells": [
  {
   "cell_type": "code",
   "execution_count": null,
   "metadata": {},
   "outputs": [],
   "source": [
    "pip install scikit-learn"
   ]
  },
  {
   "cell_type": "markdown",
   "metadata": {},
   "source": [
    "WebScraper Part"
   ]
  },
  {
   "cell_type": "code",
   "execution_count": null,
   "metadata": {},
   "outputs": [],
   "source": [
    "import requests\n",
    "\n",
    "URL = \"https://realpython.github.io/fake-jobs/\"\n",
    "page = requests.get(URL)\n",
    "\n",
    "print(page.text)"
   ]
  },
  {
   "cell_type": "markdown",
   "metadata": {},
   "source": [
    "Sentiment of a sentence in a given field"
   ]
  },
  {
   "cell_type": "code",
   "execution_count": null,
   "metadata": {},
   "outputs": [],
   "source": [
    "from pysentimiento import create_analyzer\n",
    "analyzer = create_analyzer(task=\"sentiment\", lang=\"en\")\n"
   ]
  },
  {
   "cell_type": "code",
   "execution_count": null,
   "metadata": {},
   "outputs": [],
   "source": [
    "\n",
    "analyzer.predict(\"I like ice cream\")\n"
   ]
  },
  {
   "cell_type": "markdown",
   "metadata": {},
   "source": [
    "Text classification model"
   ]
  },
  {
   "cell_type": "code",
   "execution_count": null,
   "metadata": {},
   "outputs": [],
   "source": [
    "import pandas as pd\n",
    "from sklearn.feature_extraction.text import CountVectorizer\n",
    "from sklearn.naive_bayes import MultinomialNB\n",
    "from sklearn.preprocessing import LabelEncoder\n",
    "\n",
    "def train_text_classifier(data):\n",
    "    # Preprocess the text data\n",
    "    data['text'] = data['text'].apply(lambda x: x.lower())\n",
    "    \n",
    "    # Create a bag-of-words vectorizer\n",
    "    vectorizer = CountVectorizer()\n",
    "    \n",
    "    # Transform the data into BoW vectors\n",
    "    X = vectorizer.fit_transform(data['text'])\n",
    "    \n",
    "    # Encode the tags\n",
    "    label_encoder = LabelEncoder()\n",
    "    y = label_encoder.fit_transform(data['tag'])\n",
    "    \n",
    "    # Create and train a classifier (Multinomial Naive Bayes)\n",
    "    classifier = MultinomialNB()\n",
    "    classifier.fit(X, y)\n",
    "    \n",
    "    return classifier, vectorizer, label_encoder\n",
    "\n",
    "def classify_text(text, classifier, vectorizer, label_encoder, tags):\n",
    "    # Transform the input text into a BoW vector\n",
    "    text_bow = vectorizer.transform([text.lower()])\n",
    "    \n",
    "    # Predict the tag\n",
    "    predicted_label = classifier.predict(text_bow)\n",
    "    \n",
    "    # Decode the predicted label to get the tag\n",
    "    predicted_tag = label_encoder.inverse_transform(predicted_label)[0]\n",
    "    \n",
    "    # If the predicted tag is not in the list of predefined tags, assign it as \"others\"\n",
    "    if predicted_tag not in tags:\n",
    "        predicted_tag = \"others\"\n",
    "    \n",
    "    return predicted_tag\n",
    "\n",
    "# Sample data\n",
    "data = {'text': [\"I like ice cream\", \"Pizza is my favorite\", \"I enjoy coding\", \"Apples are healthy\", \"I love hiking\"],\n",
    "        'tag': [\"food\", \"food\", \"technology\", \"food\", \"outdoors\"]}\n",
    "\n",
    "# Define the list of predefined tags\n",
    "tags = [\"food\", \"technology\", \"outdoors\"]\n",
    "\n",
    "# Train the classifier\n",
    "classifier, vectorizer, label_encoder = train_text_classifier(pd.DataFrame(data))\n",
    "\n",
    "# Input text for classification\n",
    "input_text = \"I like to program in Python\"\n",
    "predicted_tag = classify_text(input_text, classifier, vectorizer, label_encoder, tags)\n",
    "\n",
    "print(f\"Predicted Tag: {predicted_tag}\")\n"
   ]
  },
  {
   "cell_type": "code",
   "execution_count": null,
   "metadata": {},
   "outputs": [],
   "source": [
    "import pandas as pd\n",
    "from sklearn.feature_extraction.text import CountVectorizer\n",
    "from sklearn.naive_bayes import MultinomialNB\n",
    "from sklearn.preprocessing import LabelEncoder\n",
    "\n",
    "def train_text_classifier(data):\n",
    "    # Preprocess the text data\n",
    "    data['text'] = data['text'].apply(lambda x: x.lower())\n",
    "    \n",
    "    # Create a bag-of-words vectorizer\n",
    "    vectorizer = CountVectorizer()\n",
    "    \n",
    "    # Transform the data into BoW vectors\n",
    "    X = vectorizer.fit_transform(data['text'])\n",
    "    \n",
    "    # Encode the tags\n",
    "    label_encoder = LabelEncoder()\n",
    "    y = label_encoder.fit_transform(data['tag'])\n",
    "    \n",
    "    # Create and train a classifier (Multinomial Naive Bayes)\n",
    "    classifier = MultinomialNB()\n",
    "    classifier.fit(X, y)\n",
    "    \n",
    "    return classifier, vectorizer, label_encoder\n",
    "\n",
    "def classify_text(text, classifier, vectorizer, label_encoder, tags):\n",
    "    # Transform the input text into a BoW vector\n",
    "    text_bow = vectorizer.transform([text.lower()])\n",
    "    \n",
    "    # Predict the tag\n",
    "    predicted_label = classifier.predict(text_bow)\n",
    "    \n",
    "    # Decode the predicted label to get the tag\n",
    "    predicted_tag = label_encoder.inverse_transform(predicted_label)[0]\n",
    "    \n",
    "    # If the predicted tag is not in the list of predefined tags, assign it as \"others\"\n",
    "    if predicted_tag not in tags:\n",
    "        predicted_tag = \"others\"\n",
    "    \n",
    "    return predicted_tag\n",
    "\n",
    "# Load data from a .tsv file\n",
    "data = pd.read_csv('your_data.tsv', delimiter='\\t')  # Make sure to specify the correct file path\n",
    "\n",
    "# Define the list of predefined tags\n",
    "tags = data['tag'].unique()\n",
    "\n",
    "# Train the classifier\n",
    "classifier, vectorizer, label_encoder = train_text_classifier(data)\n",
    "\n",
    "# Input text for classification\n",
    "input_text = \"I like to program in Python\"\n",
    "predicted_tag = classify_text(input_text, classifier, vectorizer, label_encoder, tags)\n",
    "\n",
    "print(f\"Predicted Tag: {predicted_tag}\")\n"
   ]
  },
  {
   "cell_type": "code",
   "execution_count": null,
   "metadata": {},
   "outputs": [
    {
     "ename": "",
     "evalue": "",
     "output_type": "error",
     "traceback": [
      "\u001b[1;31mCannot execute code, session has been disposed. Please try restarting the Kernel."
     ]
    }
   ],
   "source": [
    "print(f\"Hello, mad!\")"
   ]
  }
 ],
 "metadata": {
  "kernelspec": {
   "display_name": "Python 3 (ipykernel)",
   "language": "python",
   "name": "python3"
  }
 },
 "nbformat": 4,
 "nbformat_minor": 2
}
